{
 "cells": [
  {
   "cell_type": "code",
   "execution_count": 1,
   "source": [
    "import requests\r\n",
    "from bs4 import BeautifulSoup\r\n",
    "import openpyxl\r\n",
    "import numpy as np\r\n",
    "import pandas as pd\r\n",
    "import seaborn as sns\r\n",
    "import matplotlib.pyplot as plt"
   ],
   "outputs": [],
   "metadata": {}
  },
  {
   "cell_type": "code",
   "execution_count": 2,
   "source": [
    "def find_leads(name):\r\n",
    "    s = \"\"\r\n",
    "    for x in name:\r\n",
    "        if(x == \" \" or x==\".\"):\r\n",
    "            s += \"+\"\r\n",
    "        elif(x == '&'):\r\n",
    "            s += \"%26\"\r\n",
    "        else:\r\n",
    "            s += x\r\n",
    "    found = 0\r\n",
    "    symbol = \"NA\"\r\n",
    "    url = \"https://www.google.com/search?q=\" + s\r\n",
    "    # print(s)\r\n",
    "    result  = requests.get(url)\r\n",
    "    src = result.content\r\n",
    "    soup = BeautifulSoup(src, \"html.parser\")\r\n",
    "    spans = soup.find_all('a')\r\n",
    "    urls = [span.get('href') for span in spans]\r\n",
    "    names = [span.get_text() for span in spans]\r\n",
    "    # lines = [line for line in lines if name.lower() in line.lower()]\r\n",
    "    ans = \"\"\r\n",
    "    for name, url in zip(names, urls):\r\n",
    "        if '.' in name:\r\n",
    "            ans = url\r\n",
    "            # print(name)\r\n",
    "            # print(url)\r\n",
    "            break\r\n",
    "    \r\n",
    "    pos1 = ans.find('&')-1\r\n",
    "    pos2 = ans.find(':')+3\r\n",
    "    ans = ans[pos2:pos1]\r\n",
    "    return ans\r\n",
    "        # print(name, \" \", url)\r\n",
    "\r\n",
    "    "
   ],
   "outputs": [],
   "metadata": {}
  },
  {
   "cell_type": "code",
   "execution_count": 3,
   "source": [
    "college_list = ['iitdelhi', 'iitbombay', 'iisc', 'kletech', 'mit usa', 'stanford']\r\n",
    "for org in college_list:\r\n",
    "    print(find_leads(org))"
   ],
   "outputs": [
    {
     "output_type": "stream",
     "name": "stdout",
     "text": [
      "home.iitd.ac.in\n",
      "www.iitb.ac.in\n",
      "iisc.ac.in\n",
      "www.kletech.ac.in\n",
      "www.mit.edu\n",
      "www.stanford.edu\n"
     ]
    }
   ],
   "metadata": {}
  },
  {
   "cell_type": "code",
   "execution_count": null,
   "source": [
    "org_name = input('Enter name of org: ')\r\n",
    "find_leads(org_name)"
   ],
   "outputs": [],
   "metadata": {}
  }
 ],
 "metadata": {
  "orig_nbformat": 4,
  "language_info": {
   "name": "python",
   "version": "3.7.3",
   "mimetype": "text/x-python",
   "codemirror_mode": {
    "name": "ipython",
    "version": 3
   },
   "pygments_lexer": "ipython3",
   "nbconvert_exporter": "python",
   "file_extension": ".py"
  },
  "kernelspec": {
   "name": "python3",
   "display_name": "Python 3.7.3 64-bit ('base': conda)"
  },
  "interpreter": {
   "hash": "cc5f70855ac006f3de45a3cc3b9e7d8d53845e50458809cb162b0174266dec97"
  }
 },
 "nbformat": 4,
 "nbformat_minor": 2
}