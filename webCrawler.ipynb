{
 "cells": [
  {
   "cell_type": "code",
   "execution_count": 2,
   "source": [
    "import requests\r\n",
    "from bs4 import BeautifulSoup\r\n",
    "import openpyxl\r\n",
    "import numpy as np\r\n",
    "import pandas as pd\r\n",
    "import seaborn as sns\r\n",
    "import matplotlib.pyplot as plt"
   ],
   "outputs": [],
   "metadata": {}
  },
  {
   "cell_type": "code",
   "execution_count": 2,
   "source": [
    "def find_leads(name):\r\n",
    "    s = \"\"\r\n",
    "    for x in name:\r\n",
    "        if(x == \" \" or x==\".\"):\r\n",
    "            s += \"+\"\r\n",
    "        elif(x == '&'):\r\n",
    "            s += \"%26\"\r\n",
    "        else:\r\n",
    "            s += x\r\n",
    "    found = 0\r\n",
    "    symbol = \"NA\"\r\n",
    "    url = \"https://www.google.com/search?q=\" + s\r\n",
    "    # print(s)\r\n",
    "    result  = requests.get(url)\r\n",
    "    src = result.content\r\n",
    "    soup = BeautifulSoup(src, \"html.parser\")\r\n",
    "    spans = soup.find_all('a')\r\n",
    "    urls = [span.get('href') for span in spans]\r\n",
    "    names = [span.get_text() for span in spans]\r\n",
    "    # lines = [line for line in lines if name.lower() in line.lower()]\r\n",
    "    ans = \"\"\r\n",
    "    for name, url in zip(names, urls):\r\n",
    "        if '.' in name:\r\n",
    "            ans = url\r\n",
    "            # print(name)\r\n",
    "            # print(url)\r\n",
    "            break\r\n",
    "    \r\n",
    "    pos1 = ans.find('&')-1\r\n",
    "    pos2 = ans.find(':')+3\r\n",
    "    ans = ans[pos2:pos1]\r\n",
    "    return ans\r\n",
    "        # print(name, \" \", url)\r\n",
    "\r\n",
    "    "
   ],
   "outputs": [],
   "metadata": {}
  },
  {
   "cell_type": "code",
   "execution_count": 3,
   "source": [
    "college_list = ['iitdelhi', 'iitbombay', 'iisc', 'kletech', 'mit usa', 'stanford']\r\n",
    "for org in college_list:\r\n",
    "    print(find_leads(org))"
   ],
   "outputs": [
    {
     "output_type": "stream",
     "name": "stdout",
     "text": [
      "home.iitd.ac.in\n",
      "www.iitb.ac.in\n",
      "iisc.ac.in\n",
      "www.kletech.ac.in\n",
      "www.mit.edu\n",
      "www.stanford.edu\n"
     ]
    }
   ],
   "metadata": {}
  },
  {
   "cell_type": "code",
   "execution_count": null,
   "source": [
    "org_name = input('Enter name of org: ')\r\n",
    "find_leads(org_name)"
   ],
   "outputs": [],
   "metadata": {}
  },
  {
   "cell_type": "markdown",
   "source": [
    "# FINDING LINKEDIN URLS"
   ],
   "metadata": {}
  },
  {
   "cell_type": "code",
   "execution_count": 94,
   "source": [
    "def find_linkedin_url(search_name, search_org, search_site):\r\n",
    "    name = (search_name + \" \" + search_org + \" \" + search_site).lower()\r\n",
    "    s = \"\"\r\n",
    "    for x in name:\r\n",
    "        if (x == \" \" or x == \".\"):\r\n",
    "            s += \"+\"\r\n",
    "        elif (x == '&'):\r\n",
    "            s += \"%26\"\r\n",
    "        else:\r\n",
    "            s += x\r\n",
    "    found = 0\r\n",
    "    symbol = \"NA\"\r\n",
    "    url = \"https://www.google.com/search?q=\" + s\r\n",
    "    # print(s)\r\n",
    "    result = requests.get(url)\r\n",
    "    src = result.content\r\n",
    "    soup = BeautifulSoup(src, \"html.parser\")\r\n",
    "    spans = soup.find_all('a')\r\n",
    "    urls = [span.get('href') for span in spans]\r\n",
    "    names = [span.get_text() for span in spans]\r\n",
    "    name = names[16]\r\n",
    "    start = name[::-1].find(' ')\r\n",
    "    start = len(name) - start\r\n",
    "    profile = name[start:]\r\n",
    "    p = profile.replace('-', '')\r\n",
    "    if p.isalnum() is False:\r\n",
    "        print(names[16])\r\n",
    "        return 'NA'\r\n",
    "    if 'linkedin' not in urls[16]:\r\n",
    "        # print(urls[16])\r\n",
    "        return 'NA'\r\n",
    "    return profile\r\n",
    "\r\n"
   ],
   "outputs": [],
   "metadata": {}
  },
  {
   "cell_type": "code",
   "execution_count": 4,
   "source": [
    "faculty_data = pd.read_csv('facs/faculty.csv')"
   ],
   "outputs": [],
   "metadata": {}
  },
  {
   "cell_type": "code",
   "execution_count": 96,
   "source": [
    "faculty_data.head()\r\n",
    "names = faculty_data.Name\r\n",
    "org = faculty_data.Organization\r\n",
    "linkedin = faculty_data.LinkedIn"
   ],
   "outputs": [],
   "metadata": {}
  },
  {
   "cell_type": "code",
   "execution_count": 101,
   "source": [
    "for x in range(0, len(names)):\r\n",
    "    # linkedin[x] = find_linkedin_url(names[x].lower(), org[x].lower(), 'linkedin')\r\n",
    "    if \"linkedin\" in linkedin[x]:\r\n",
    "        linkedin[x] = 'NA'\r\n",
    "    if \"alphanum\" in linkedin[x]:\r\n",
    "        linkedin[x] = 'NA'"
   ],
   "outputs": [
    {
     "output_type": "stream",
     "name": "stderr",
     "text": [
      "D:\\anaconda\\lib\\site-packages\\ipykernel_launcher.py:4: SettingWithCopyWarning: \n",
      "A value is trying to be set on a copy of a slice from a DataFrame\n",
      "\n",
      "See the caveats in the documentation: https://pandas.pydata.org/pandas-docs/stable/user_guide/indexing.html#returning-a-view-versus-a-copy\n",
      "  after removing the cwd from sys.path.\n",
      "D:\\anaconda\\lib\\site-packages\\ipykernel_launcher.py:6: SettingWithCopyWarning: \n",
      "A value is trying to be set on a copy of a slice from a DataFrame\n",
      "\n",
      "See the caveats in the documentation: https://pandas.pydata.org/pandas-docs/stable/user_guide/indexing.html#returning-a-view-versus-a-copy\n",
      "  \n"
     ]
    }
   ],
   "metadata": {}
  },
  {
   "cell_type": "code",
   "execution_count": 102,
   "source": [
    "faculty_data.head()"
   ],
   "outputs": [
    {
     "output_type": "execute_result",
     "data": {
      "text/html": [
       "<div>\n",
       "<style scoped>\n",
       "    .dataframe tbody tr th:only-of-type {\n",
       "        vertical-align: middle;\n",
       "    }\n",
       "\n",
       "    .dataframe tbody tr th {\n",
       "        vertical-align: top;\n",
       "    }\n",
       "\n",
       "    .dataframe thead th {\n",
       "        text-align: right;\n",
       "    }\n",
       "</style>\n",
       "<table border=\"1\" class=\"dataframe\">\n",
       "  <thead>\n",
       "    <tr style=\"text-align: right;\">\n",
       "      <th></th>\n",
       "      <th>Name</th>\n",
       "      <th>Organization</th>\n",
       "      <th>Designation</th>\n",
       "      <th>Department</th>\n",
       "      <th>Qualification</th>\n",
       "      <th>email</th>\n",
       "      <th>area of interest</th>\n",
       "      <th>LinkedIn</th>\n",
       "      <th>Facebook</th>\n",
       "      <th>Twitter</th>\n",
       "      <th>Instagram</th>\n",
       "      <th>Phone</th>\n",
       "    </tr>\n",
       "  </thead>\n",
       "  <tbody>\n",
       "    <tr>\n",
       "      <th>0</th>\n",
       "      <td>Dr. Ankita Srivastava</td>\n",
       "      <td>Manipal Institute of Technology</td>\n",
       "      <td>Assistant Professor</td>\n",
       "      <td>Department of Aeronautical &amp; Automobile Engine...</td>\n",
       "      <td>B.Tech. (Electronics &amp; Communications Engineer...</td>\n",
       "      <td>ankita.srivastava@manipal.edu\\n\\n             ...</td>\n",
       "      <td>Communication Networking, Vehicular Ad Hoc Net...</td>\n",
       "      <td>dr-ankita-srivastava-42486a1b4</td>\n",
       "      <td>NaN</td>\n",
       "      <td>NaN</td>\n",
       "      <td>NaN</td>\n",
       "      <td>NaN</td>\n",
       "    </tr>\n",
       "    <tr>\n",
       "      <th>1</th>\n",
       "      <td>Dr.Mathew Peter</td>\n",
       "      <td>Manipal Institute of Technology</td>\n",
       "      <td>Assistant Professor</td>\n",
       "      <td>Department of Biomedical Engineering</td>\n",
       "      <td>BDS, M.Tech.(Nanomedical Science), PhD (Biomed...</td>\n",
       "      <td>mathew.peter@manipal.edu\\n\\n                  ...</td>\n",
       "      <td>Teaching &amp; Research</td>\n",
       "      <td>mathew-peter-3287a027</td>\n",
       "      <td>NaN</td>\n",
       "      <td>NaN</td>\n",
       "      <td>NaN</td>\n",
       "      <td>NaN</td>\n",
       "    </tr>\n",
       "    <tr>\n",
       "      <th>2</th>\n",
       "      <td>Dr.Muralidhar Bairy G</td>\n",
       "      <td>Manipal Institute of Technology</td>\n",
       "      <td>Associate Professor - Senior Scale &amp; HOD</td>\n",
       "      <td>Department of Biomedical Engineering</td>\n",
       "      <td>B.E.( E&amp;C), M.Tech.(Biomedical Engg.), PhD ((B...</td>\n",
       "      <td>gm.bairy@manipal.edu \\n\\n                     ...</td>\n",
       "      <td>Biomedical Signal Processing and medical instr...</td>\n",
       "      <td>dr-g-muralidhar-bairy-2b870b22</td>\n",
       "      <td>NaN</td>\n",
       "      <td>NaN</td>\n",
       "      <td>NaN</td>\n",
       "      <td>NaN</td>\n",
       "    </tr>\n",
       "    <tr>\n",
       "      <th>3</th>\n",
       "      <td>Hilda Mayrose</td>\n",
       "      <td>Manipal Institute of Technology</td>\n",
       "      <td>Assistant Professor -Senior Scale</td>\n",
       "      <td>Department of Biomedical Engineering</td>\n",
       "      <td>B.E.(Biomedical Engg.), M.Tech.(Biomedical Eng...</td>\n",
       "      <td>hilda.mayrose@manipal.edu \\n\\n                ...</td>\n",
       "      <td>Department NBA coordinator</td>\n",
       "      <td>hilda-mayrose-8ba07023</td>\n",
       "      <td>NaN</td>\n",
       "      <td>NaN</td>\n",
       "      <td>NaN</td>\n",
       "      <td>NaN</td>\n",
       "    </tr>\n",
       "    <tr>\n",
       "      <th>4</th>\n",
       "      <td>Dr.Niranjana S</td>\n",
       "      <td>Manipal Institute of Technology</td>\n",
       "      <td>Associate Professor - Senior Scale</td>\n",
       "      <td>Department of Biomedical Engineering</td>\n",
       "      <td>B.E.(E&amp;C), M.Tech. (Biomedical Engg.), Ph.D.(N...</td>\n",
       "      <td>niranjana.s@manipal.edu \\n\\n                  ...</td>\n",
       "      <td>Pattern Recognition or Soft computing Techniqu...</td>\n",
       "      <td>dr-niranjana-sampathila-phd-53166841</td>\n",
       "      <td>NaN</td>\n",
       "      <td>NaN</td>\n",
       "      <td>NaN</td>\n",
       "      <td>NaN</td>\n",
       "    </tr>\n",
       "  </tbody>\n",
       "</table>\n",
       "</div>"
      ],
      "text/plain": [
       "                    Name                     Organization  \\\n",
       "0  Dr. Ankita Srivastava  Manipal Institute of Technology   \n",
       "1        Dr.Mathew Peter  Manipal Institute of Technology   \n",
       "2  Dr.Muralidhar Bairy G  Manipal Institute of Technology   \n",
       "3          Hilda Mayrose  Manipal Institute of Technology   \n",
       "4         Dr.Niranjana S  Manipal Institute of Technology   \n",
       "\n",
       "                                Designation  \\\n",
       "0                       Assistant Professor   \n",
       "1                       Assistant Professor   \n",
       "2  Associate Professor - Senior Scale & HOD   \n",
       "3         Assistant Professor -Senior Scale   \n",
       "4       Associate Professor - Senior Scale    \n",
       "\n",
       "                                          Department  \\\n",
       "0  Department of Aeronautical & Automobile Engine...   \n",
       "1               Department of Biomedical Engineering   \n",
       "2               Department of Biomedical Engineering   \n",
       "3               Department of Biomedical Engineering   \n",
       "4               Department of Biomedical Engineering   \n",
       "\n",
       "                                       Qualification  \\\n",
       "0  B.Tech. (Electronics & Communications Engineer...   \n",
       "1  BDS, M.Tech.(Nanomedical Science), PhD (Biomed...   \n",
       "2  B.E.( E&C), M.Tech.(Biomedical Engg.), PhD ((B...   \n",
       "3  B.E.(Biomedical Engg.), M.Tech.(Biomedical Eng...   \n",
       "4  B.E.(E&C), M.Tech. (Biomedical Engg.), Ph.D.(N...   \n",
       "\n",
       "                                               email  \\\n",
       "0  ankita.srivastava@manipal.edu\\n\\n             ...   \n",
       "1  mathew.peter@manipal.edu\\n\\n                  ...   \n",
       "2  gm.bairy@manipal.edu \\n\\n                     ...   \n",
       "3  hilda.mayrose@manipal.edu \\n\\n                ...   \n",
       "4  niranjana.s@manipal.edu \\n\\n                  ...   \n",
       "\n",
       "                                    area of interest  \\\n",
       "0  Communication Networking, Vehicular Ad Hoc Net...   \n",
       "1                                Teaching & Research   \n",
       "2  Biomedical Signal Processing and medical instr...   \n",
       "3                         Department NBA coordinator   \n",
       "4  Pattern Recognition or Soft computing Techniqu...   \n",
       "\n",
       "                               LinkedIn  Facebook  Twitter  Instagram  Phone  \n",
       "0        dr-ankita-srivastava-42486a1b4       NaN      NaN        NaN    NaN  \n",
       "1                 mathew-peter-3287a027       NaN      NaN        NaN    NaN  \n",
       "2        dr-g-muralidhar-bairy-2b870b22       NaN      NaN        NaN    NaN  \n",
       "3                hilda-mayrose-8ba07023       NaN      NaN        NaN    NaN  \n",
       "4  dr-niranjana-sampathila-phd-53166841       NaN      NaN        NaN    NaN  "
      ]
     },
     "metadata": {},
     "execution_count": 102
    }
   ],
   "metadata": {}
  },
  {
   "cell_type": "code",
   "execution_count": 103,
   "source": [
    "faculty_data.to_csv('facs/faculty_data_with_linkedin_2.csv')"
   ],
   "outputs": [],
   "metadata": {}
  },
  {
   "cell_type": "code",
   "execution_count": null,
   "source": [],
   "outputs": [],
   "metadata": {}
  }
 ],
 "metadata": {
  "orig_nbformat": 4,
  "language_info": {
   "name": "python",
   "version": "3.7.3",
   "mimetype": "text/x-python",
   "codemirror_mode": {
    "name": "ipython",
    "version": 3
   },
   "pygments_lexer": "ipython3",
   "nbconvert_exporter": "python",
   "file_extension": ".py"
  },
  "kernelspec": {
   "name": "python3",
   "display_name": "Python 3.7.3 64-bit ('base': conda)"
  },
  "interpreter": {
   "hash": "cc5f70855ac006f3de45a3cc3b9e7d8d53845e50458809cb162b0174266dec97"
  }
 },
 "nbformat": 4,
 "nbformat_minor": 2
}