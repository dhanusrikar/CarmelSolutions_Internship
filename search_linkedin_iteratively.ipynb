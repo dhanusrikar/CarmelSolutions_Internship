{
 "cells": [
  {
   "cell_type": "code",
   "execution_count": 1,
   "metadata": {},
   "outputs": [],
   "source": [
    "import requests\n",
    "from bs4 import BeautifulSoup\n",
    "import numpy as np\n",
    "import pandas as pd\n",
    "import time"
   ]
  },
  {
   "cell_type": "code",
   "execution_count": 2,
   "metadata": {},
   "outputs": [],
   "source": [
    "def find_linkedin_url(name):\n",
    "    # name = (search_name + \" \" + search_org + \" \" + search_des + \" \" + search_site).lower()\n",
    "    s = \"\"\n",
    "    name = name + \" linkedin\"\n",
    "    for x in name:\n",
    "        if (x == \" \" or x == \".\"):\n",
    "            s += \"+\"\n",
    "        elif (x == '&'):\n",
    "            s += \"%26\"\n",
    "        else:\n",
    "            s += x\n",
    "    found = 0\n",
    "    symbol = \"NA\"\n",
    "    url = \"https://www.google.com/search?q=\" + s\n",
    "    # print(s)\n",
    "    result = requests.get(url)\n",
    "    src = result.content\n",
    "    soup = BeautifulSoup(src, \"html.parser\")\n",
    "    spans = soup.find_all('a')\n",
    "    urls = [span.get('href') for span in spans]\n",
    "    names = [span.get_text() for span in spans]\n",
    "    count = 1\n",
    "    new_list = []\n",
    "    for n, u in zip(names, urls):\n",
    "        count = count + 1\n",
    "        if 'linkedin.com' in u:\n",
    "            start = n[::-1].find(' ')\n",
    "            start = len(n) - start\n",
    "            profile = n[start:]\n",
    "            p = profile.replace('-', '')\n",
    "            if p.isalnum() is False:\n",
    "                continue\n",
    "            new_list.append(profile)\n",
    "    return new_list"
   ]
  },
  {
   "cell_type": "code",
   "execution_count": 6,
   "metadata": {},
   "outputs": [
    {
     "name": "stdout",
     "output_type": "stream",
     "text": [
      "Query:  suraj\n",
      "Results: \n",
      "1 surajcn\n",
      "2 Suraj\n",
      "3 suraj-marpak-880ab4b\n",
      "4 suraj-nair-53a18310a\n",
      "5 surajsd\n",
      "6 suraj-nagappa-70715916\n",
      "7 suraj-pombra-65a6961\n",
      "8 surajltd\n",
      "9 surajkr25\n",
      "10 suraj-hanchinal-546269188\n",
      " \n",
      "Response:  n\n",
      "Query:  suraj hubli\n",
      "Results: \n",
      "1 suraj-madangeri-15847b148\n",
      "2 suraj-baddi-859477199\n",
      "3 suraj-meharwade-046b5b1bb\n",
      "4 suraj-gani-bb8769203\n",
      "5 suraj-g-67bb41170\n",
      "6 suraj-gojanur-3792731b5\n",
      "7 suraj-havanagi-81399b1ab\n",
      "8 suraj-sunkadkar-8086498a\n",
      "9 suraj-shetty-9b2820117\n",
      "10 suraj-dandin\n",
      " \n",
      "Response:  y\n",
      "5 suraj-g-67bb41170\n"
     ]
    }
   ],
   "source": [
    "f = ''\n",
    "x = input('Enter the name: ')\n",
    "\n",
    "while True:\n",
    "    f = f + ' ' + x\n",
    "    profiles = find_linkedin_url(f)\n",
    "    print('Query:', f)\n",
    "    print('Results: ')\n",
    "    count = 1\n",
    "    for x in profiles:\n",
    "        print(count, x)\n",
    "        count = count + 1\n",
    "    print(\" \")\n",
    "    time.sleep(1)\n",
    "    response = input('Was the profile found? (y/n):')\n",
    "    time.sleep(1)\n",
    "    print('Response: ', response)\n",
    "    if response == 'y':\n",
    "        number = int(input('Enter the profile number: '))\n",
    "        print(number, profiles[number-1])\n",
    "        break\n",
    "    else:\n",
    "        x = input('Enter additional details: ')"
   ]
  },
  {
   "cell_type": "code",
   "execution_count": null,
   "metadata": {},
   "outputs": [],
   "source": []
  }
 ],
 "metadata": {
  "interpreter": {
   "hash": "cc5f70855ac006f3de45a3cc3b9e7d8d53845e50458809cb162b0174266dec97"
  },
  "kernelspec": {
   "display_name": "Python 3.7.3 64-bit ('base': conda)",
   "language": "python",
   "name": "python3"
  },
  "language_info": {
   "codemirror_mode": {
    "name": "ipython",
    "version": 3
   },
   "file_extension": ".py",
   "mimetype": "text/x-python",
   "name": "python",
   "nbconvert_exporter": "python",
   "pygments_lexer": "ipython3",
   "version": "3.7.3"
  },
  "orig_nbformat": 4
 },
 "nbformat": 4,
 "nbformat_minor": 2
}
