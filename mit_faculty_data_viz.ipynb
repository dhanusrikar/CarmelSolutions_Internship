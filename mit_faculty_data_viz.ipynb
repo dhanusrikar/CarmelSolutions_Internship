{
 "cells": [
  {
   "cell_type": "code",
   "execution_count": 42,
   "source": [
    "import openpyxl\r\n",
    "import numpy as np\r\n",
    "import pandas as pd\r\n",
    "import seaborn as sns\r\n",
    "import matplotlib.pyplot as plt\r\n",
    "from matplotlib.pyplot import xticks"
   ],
   "outputs": [],
   "metadata": {}
  },
  {
   "cell_type": "code",
   "execution_count": 20,
   "source": [
    "df2 = pd.read_csv('facs/faculty_data_with_linkedin_2.csv')\r\n",
    "df = df2.copy(deep=False)"
   ],
   "outputs": [],
   "metadata": {}
  },
  {
   "cell_type": "code",
   "execution_count": 21,
   "source": [
    "df.head()"
   ],
   "outputs": [
    {
     "output_type": "execute_result",
     "data": {
      "text/html": [
       "<div>\n",
       "<style scoped>\n",
       "    .dataframe tbody tr th:only-of-type {\n",
       "        vertical-align: middle;\n",
       "    }\n",
       "\n",
       "    .dataframe tbody tr th {\n",
       "        vertical-align: top;\n",
       "    }\n",
       "\n",
       "    .dataframe thead th {\n",
       "        text-align: right;\n",
       "    }\n",
       "</style>\n",
       "<table border=\"1\" class=\"dataframe\">\n",
       "  <thead>\n",
       "    <tr style=\"text-align: right;\">\n",
       "      <th></th>\n",
       "      <th>Unnamed: 0</th>\n",
       "      <th>Name</th>\n",
       "      <th>Organization</th>\n",
       "      <th>Designation</th>\n",
       "      <th>Department</th>\n",
       "      <th>Qualification</th>\n",
       "      <th>Email</th>\n",
       "      <th>Areas of interest</th>\n",
       "      <th>LinkedIn</th>\n",
       "      <th>Facebook</th>\n",
       "      <th>Twitter</th>\n",
       "      <th>Website</th>\n",
       "      <th>phone</th>\n",
       "    </tr>\n",
       "  </thead>\n",
       "  <tbody>\n",
       "    <tr>\n",
       "      <th>0</th>\n",
       "      <td>0</td>\n",
       "      <td>Dr. Ankita Srivastava</td>\n",
       "      <td>Manipal Institute of Technology</td>\n",
       "      <td>Assistant Professor</td>\n",
       "      <td>Department of Aeronautical &amp; Automobile Engine...</td>\n",
       "      <td>B.Tech. (Electronics &amp; Communications Engineer...</td>\n",
       "      <td>ankita.srivastava@manipal.edu\\n\\n             ...</td>\n",
       "      <td>communication networking, vehicular ad hoc net...</td>\n",
       "      <td>dr-ankita-srivastava-42486a1b4</td>\n",
       "      <td>na</td>\n",
       "      <td>na</td>\n",
       "      <td>na</td>\n",
       "      <td>na</td>\n",
       "    </tr>\n",
       "    <tr>\n",
       "      <th>1</th>\n",
       "      <td>1</td>\n",
       "      <td>Hilda Mayrose</td>\n",
       "      <td>Manipal Institute of Technology</td>\n",
       "      <td>Assistant Professor -Senior Scale</td>\n",
       "      <td>Department of Biomedical Engineering</td>\n",
       "      <td>B.E.(Biomedical Engg.), M.Tech.(Biomedical Eng...</td>\n",
       "      <td>hilda.mayrose@manipal.edu \\n\\n                ...</td>\n",
       "      <td>biomedical instrumentation &amp; signal analysis</td>\n",
       "      <td>NaN</td>\n",
       "      <td>na</td>\n",
       "      <td>na</td>\n",
       "      <td>na</td>\n",
       "      <td>na</td>\n",
       "    </tr>\n",
       "    <tr>\n",
       "      <th>2</th>\n",
       "      <td>2</td>\n",
       "      <td>Dr. Goutam Thakur</td>\n",
       "      <td>Manipal Institute of Technology</td>\n",
       "      <td>Associate Professor</td>\n",
       "      <td>Department of Biomedical Engineering</td>\n",
       "      <td>B. Pharm.( Pharmaceutical Sciences), ME (Biome...</td>\n",
       "      <td>goutam.thakur@manipal.edu \\n\\n                ...</td>\n",
       "      <td>biomaterials, tissue engineering, drug deliver...</td>\n",
       "      <td>goutam-thakur-63149915</td>\n",
       "      <td>na</td>\n",
       "      <td>na</td>\n",
       "      <td>na</td>\n",
       "      <td>na</td>\n",
       "    </tr>\n",
       "    <tr>\n",
       "      <th>3</th>\n",
       "      <td>3</td>\n",
       "      <td>Rajitha K V</td>\n",
       "      <td>Manipal Institute of Technology</td>\n",
       "      <td>Assistant Professor -Senior scale</td>\n",
       "      <td>Department of Biomedical Engineering</td>\n",
       "      <td>B.E.(Biomedical Engg.), M.Tech. (Biomedical En...</td>\n",
       "      <td>rajitha.kv@manipal.edu \\n\\n                   ...</td>\n",
       "      <td>medical instrumentation,,,</td>\n",
       "      <td>NaN</td>\n",
       "      <td>na</td>\n",
       "      <td>na</td>\n",
       "      <td>na</td>\n",
       "      <td>na</td>\n",
       "    </tr>\n",
       "    <tr>\n",
       "      <th>4</th>\n",
       "      <td>4</td>\n",
       "      <td>Lawrence D Almeida</td>\n",
       "      <td>Manipal Institute of Technology</td>\n",
       "      <td>Associate Professor</td>\n",
       "      <td>Department of Biomedical Engineering</td>\n",
       "      <td>B.E. (E&amp;C), M.Tech. (Biomedical Engg.)\\n      ...</td>\n",
       "      <td>ld.almeida@manipal.edu\\n\\n                    ...</td>\n",
       "      <td>control systems, digital electronics and ic sy...</td>\n",
       "      <td>lawrence-d-almeida-71a0b8174</td>\n",
       "      <td>na</td>\n",
       "      <td>na</td>\n",
       "      <td>na</td>\n",
       "      <td>na</td>\n",
       "    </tr>\n",
       "  </tbody>\n",
       "</table>\n",
       "</div>"
      ],
      "text/plain": [
       "   Unnamed: 0                   Name                     Organization  \\\n",
       "0           0  Dr. Ankita Srivastava  Manipal Institute of Technology   \n",
       "1           1          Hilda Mayrose  Manipal Institute of Technology   \n",
       "2           2      Dr. Goutam Thakur  Manipal Institute of Technology   \n",
       "3           3            Rajitha K V  Manipal Institute of Technology   \n",
       "4           4     Lawrence D Almeida  Manipal Institute of Technology   \n",
       "\n",
       "                         Designation  \\\n",
       "0                Assistant Professor   \n",
       "1  Assistant Professor -Senior Scale   \n",
       "2                Associate Professor   \n",
       "3  Assistant Professor -Senior scale   \n",
       "4                Associate Professor   \n",
       "\n",
       "                                          Department  \\\n",
       "0  Department of Aeronautical & Automobile Engine...   \n",
       "1               Department of Biomedical Engineering   \n",
       "2               Department of Biomedical Engineering   \n",
       "3               Department of Biomedical Engineering   \n",
       "4               Department of Biomedical Engineering   \n",
       "\n",
       "                                       Qualification  \\\n",
       "0  B.Tech. (Electronics & Communications Engineer...   \n",
       "1  B.E.(Biomedical Engg.), M.Tech.(Biomedical Eng...   \n",
       "2  B. Pharm.( Pharmaceutical Sciences), ME (Biome...   \n",
       "3  B.E.(Biomedical Engg.), M.Tech. (Biomedical En...   \n",
       "4  B.E. (E&C), M.Tech. (Biomedical Engg.)\\n      ...   \n",
       "\n",
       "                                               Email  \\\n",
       "0  ankita.srivastava@manipal.edu\\n\\n             ...   \n",
       "1  hilda.mayrose@manipal.edu \\n\\n                ...   \n",
       "2  goutam.thakur@manipal.edu \\n\\n                ...   \n",
       "3  rajitha.kv@manipal.edu \\n\\n                   ...   \n",
       "4  ld.almeida@manipal.edu\\n\\n                    ...   \n",
       "\n",
       "                                   Areas of interest  \\\n",
       "0  communication networking, vehicular ad hoc net...   \n",
       "1       biomedical instrumentation & signal analysis   \n",
       "2  biomaterials, tissue engineering, drug deliver...   \n",
       "3                         medical instrumentation,,,   \n",
       "4  control systems, digital electronics and ic sy...   \n",
       "\n",
       "                         LinkedIn Facebook Twitter Website phone  \n",
       "0  dr-ankita-srivastava-42486a1b4       na      na      na    na  \n",
       "1                             NaN       na      na      na    na  \n",
       "2          goutam-thakur-63149915       na      na      na    na  \n",
       "3                             NaN       na      na      na    na  \n",
       "4    lawrence-d-almeida-71a0b8174       na      na      na    na  "
      ]
     },
     "metadata": {},
     "execution_count": 21
    }
   ],
   "metadata": {}
  },
  {
   "cell_type": "code",
   "execution_count": 22,
   "source": [
    "for i in range(0, len(df.Email)):\r\n",
    "    df.Email[i] = df.Email[i].replace('\\n', '')\r\n",
    "    df.Email[i] = df.Email[i].replace(' ', '')"
   ],
   "outputs": [
    {
     "output_type": "stream",
     "name": "stderr",
     "text": [
      "D:\\anaconda\\lib\\site-packages\\ipykernel_launcher.py:2: SettingWithCopyWarning: \n",
      "A value is trying to be set on a copy of a slice from a DataFrame\n",
      "\n",
      "See the caveats in the documentation: https://pandas.pydata.org/pandas-docs/stable/user_guide/indexing.html#returning-a-view-versus-a-copy\n",
      "  \n",
      "D:\\anaconda\\lib\\site-packages\\ipykernel_launcher.py:3: SettingWithCopyWarning: \n",
      "A value is trying to be set on a copy of a slice from a DataFrame\n",
      "\n",
      "See the caveats in the documentation: https://pandas.pydata.org/pandas-docs/stable/user_guide/indexing.html#returning-a-view-versus-a-copy\n",
      "  This is separate from the ipykernel package so we can avoid doing imports until\n"
     ]
    }
   ],
   "metadata": {}
  },
  {
   "cell_type": "code",
   "execution_count": 23,
   "source": [
    "for i in range(0, len(df.Email)):\r\n",
    "    if 'linkedin' in str(df.LinkedIn[i]):\r\n",
    "        x = str(df.LinkedIn[i])\r\n",
    "        print(x[x.find('.com/in/')+8:len(x)-1])\r\n",
    "        df.LinkedIn[i] = x[x.find('.com/in/') + 8:len(x) - 1]\r\n",
    "        # break"
   ],
   "outputs": [
    {
     "output_type": "stream",
     "name": "stdout",
     "text": [
      "raghavendra-kamath-a4625541\n",
      "www.linkedin.com/pub/manjunath-shettar/50/a09/6b\n",
      "manjunath788\n",
      "vijay-kini-663b5a99\n",
      "subash-acharya-14b051a0\n",
      "\n",
      "\n",
      "\n",
      "\n",
      "vishuhm\n",
      "vinyas-shetty-530a4a3a?trk=nav_responsive_tab_profil\n",
      "vijay-gs-5105445\n",
      "shivamurthy-r-c-4b77684\n",
      "ritesh-bhat-a00821aa\n",
      "ramakrishna-vikas-b8299532\n",
      "raghuvir-pai-58841614/%2\n",
      "nitesh-kumar-682a541\n",
      "kevin-amith-mathias-06b9a415/?originalSubdomain=i\n",
      "george-varghese-918557b2\n",
      "\n",
      "\n",
      "\n",
      "\n",
      "yoganandajepp\n",
      "in.linkedin.com/pub/dr-raghavendra-u/23/9b4/46\n",
      "gurudas-nayak-1bb3088\n",
      "\n",
      "\n",
      "dasharathraj\n",
      "\n",
      "\n",
      "amitgunda\n",
      "\n",
      "\n",
      "\n",
      "\n",
      "\n",
      "\n",
      "\n"
     ]
    },
    {
     "output_type": "stream",
     "name": "stderr",
     "text": [
      "D:\\anaconda\\lib\\site-packages\\ipykernel_launcher.py:5: SettingWithCopyWarning: \n",
      "A value is trying to be set on a copy of a slice from a DataFrame\n",
      "\n",
      "See the caveats in the documentation: https://pandas.pydata.org/pandas-docs/stable/user_guide/indexing.html#returning-a-view-versus-a-copy\n",
      "  \"\"\"\n"
     ]
    }
   ],
   "metadata": {}
  },
  {
   "cell_type": "code",
   "execution_count": 28,
   "source": [
    "df.columns"
   ],
   "outputs": [
    {
     "output_type": "execute_result",
     "data": {
      "text/plain": [
       "Index(['Unnamed: 0', 'Name', 'Organization', 'Designation', 'Department',\n",
       "       'Qualification', 'Email', 'Areas of interest', 'LinkedIn', 'Facebook',\n",
       "       'Twitter', 'Website', 'phone'],\n",
       "      dtype='object')"
      ]
     },
     "metadata": {},
     "execution_count": 28
    }
   ],
   "metadata": {}
  },
  {
   "cell_type": "code",
   "execution_count": 31,
   "source": [
    "df = df.drop('Unnamed: 0', axis = 1)"
   ],
   "outputs": [],
   "metadata": {}
  },
  {
   "cell_type": "code",
   "execution_count": 35,
   "source": [
    "df = df.replace('na', np.nan)"
   ],
   "outputs": [],
   "metadata": {}
  },
  {
   "cell_type": "code",
   "execution_count": null,
   "source": [
    "df['Qualification'] = df['Qualification'].replace('Qualification', '')"
   ],
   "outputs": [],
   "metadata": {}
  },
  {
   "cell_type": "code",
   "execution_count": 39,
   "source": [
    "df.head(10)"
   ],
   "outputs": [
    {
     "output_type": "execute_result",
     "data": {
      "text/html": [
       "<div>\n",
       "<style scoped>\n",
       "    .dataframe tbody tr th:only-of-type {\n",
       "        vertical-align: middle;\n",
       "    }\n",
       "\n",
       "    .dataframe tbody tr th {\n",
       "        vertical-align: top;\n",
       "    }\n",
       "\n",
       "    .dataframe thead th {\n",
       "        text-align: right;\n",
       "    }\n",
       "</style>\n",
       "<table border=\"1\" class=\"dataframe\">\n",
       "  <thead>\n",
       "    <tr style=\"text-align: right;\">\n",
       "      <th></th>\n",
       "      <th>Name</th>\n",
       "      <th>Organization</th>\n",
       "      <th>Designation</th>\n",
       "      <th>Department</th>\n",
       "      <th>Qualification</th>\n",
       "      <th>Email</th>\n",
       "      <th>Areas of interest</th>\n",
       "      <th>LinkedIn</th>\n",
       "      <th>Facebook</th>\n",
       "      <th>Twitter</th>\n",
       "      <th>Website</th>\n",
       "      <th>phone</th>\n",
       "    </tr>\n",
       "  </thead>\n",
       "  <tbody>\n",
       "    <tr>\n",
       "      <th>0</th>\n",
       "      <td>Dr. Ankita Srivastava</td>\n",
       "      <td>Manipal Institute of Technology</td>\n",
       "      <td>Assistant Professor</td>\n",
       "      <td>Department of Aeronautical &amp; Automobile Engine...</td>\n",
       "      <td>B.Tech. (Electronics &amp; Communications Engineer...</td>\n",
       "      <td>ankita.srivastava@manipal.edu</td>\n",
       "      <td>communication networking, vehicular ad hoc net...</td>\n",
       "      <td>dr-ankita-srivastava-42486a1b4</td>\n",
       "      <td>NaN</td>\n",
       "      <td>NaN</td>\n",
       "      <td>NaN</td>\n",
       "      <td>NaN</td>\n",
       "    </tr>\n",
       "    <tr>\n",
       "      <th>1</th>\n",
       "      <td>Hilda Mayrose</td>\n",
       "      <td>Manipal Institute of Technology</td>\n",
       "      <td>Assistant Professor -Senior Scale</td>\n",
       "      <td>Department of Biomedical Engineering</td>\n",
       "      <td>B.E.(Biomedical Engg.), M.Tech.(Biomedical Eng...</td>\n",
       "      <td>hilda.mayrose@manipal.edu</td>\n",
       "      <td>biomedical instrumentation &amp; signal analysis</td>\n",
       "      <td>NaN</td>\n",
       "      <td>NaN</td>\n",
       "      <td>NaN</td>\n",
       "      <td>NaN</td>\n",
       "      <td>NaN</td>\n",
       "    </tr>\n",
       "    <tr>\n",
       "      <th>2</th>\n",
       "      <td>Dr. Goutam Thakur</td>\n",
       "      <td>Manipal Institute of Technology</td>\n",
       "      <td>Associate Professor</td>\n",
       "      <td>Department of Biomedical Engineering</td>\n",
       "      <td>B. Pharm.( Pharmaceutical Sciences), ME (Biome...</td>\n",
       "      <td>goutam.thakur@manipal.edu</td>\n",
       "      <td>biomaterials, tissue engineering, drug deliver...</td>\n",
       "      <td>goutam-thakur-63149915</td>\n",
       "      <td>NaN</td>\n",
       "      <td>NaN</td>\n",
       "      <td>NaN</td>\n",
       "      <td>NaN</td>\n",
       "    </tr>\n",
       "    <tr>\n",
       "      <th>3</th>\n",
       "      <td>Rajitha K V</td>\n",
       "      <td>Manipal Institute of Technology</td>\n",
       "      <td>Assistant Professor -Senior scale</td>\n",
       "      <td>Department of Biomedical Engineering</td>\n",
       "      <td>B.E.(Biomedical Engg.), M.Tech. (Biomedical En...</td>\n",
       "      <td>rajitha.kv@manipal.edu</td>\n",
       "      <td>medical instrumentation,,,</td>\n",
       "      <td>NaN</td>\n",
       "      <td>NaN</td>\n",
       "      <td>NaN</td>\n",
       "      <td>NaN</td>\n",
       "      <td>NaN</td>\n",
       "    </tr>\n",
       "    <tr>\n",
       "      <th>4</th>\n",
       "      <td>Lawrence D Almeida</td>\n",
       "      <td>Manipal Institute of Technology</td>\n",
       "      <td>Associate Professor</td>\n",
       "      <td>Department of Biomedical Engineering</td>\n",
       "      <td>B.E. (E&amp;C), M.Tech. (Biomedical Engg.)\\n      ...</td>\n",
       "      <td>ld.almeida@manipal.edu</td>\n",
       "      <td>control systems, digital electronics and ic sy...</td>\n",
       "      <td>lawrence-d-almeida-71a0b8174</td>\n",
       "      <td>NaN</td>\n",
       "      <td>NaN</td>\n",
       "      <td>NaN</td>\n",
       "      <td>NaN</td>\n",
       "    </tr>\n",
       "    <tr>\n",
       "      <th>5</th>\n",
       "      <td>Sheeba Davis</td>\n",
       "      <td>Manipal Institute of Technology</td>\n",
       "      <td>Assistant Professor (Senior Scale)</td>\n",
       "      <td>Department of Biomedical Engineering</td>\n",
       "      <td>B.E. (E&amp;C), M.Tech. (Biomedical Engg.)\\n      ...</td>\n",
       "      <td>sheeba.davis@manipal.edu</td>\n",
       "      <td>biomechanics</td>\n",
       "      <td>sheeba-davis-b778286b</td>\n",
       "      <td>NaN</td>\n",
       "      <td>NaN</td>\n",
       "      <td>NaN</td>\n",
       "      <td>NaN</td>\n",
       "    </tr>\n",
       "    <tr>\n",
       "      <th>6</th>\n",
       "      <td>Dr. Ramesh R Galigekere</td>\n",
       "      <td>Manipal Institute of Technology</td>\n",
       "      <td>Professor</td>\n",
       "      <td>Department of Biomedical Engineering</td>\n",
       "      <td>B.E.(E&amp;C), M.Sc.(Engg.), Ph.D. (Signal/Image P...</td>\n",
       "      <td>ramesh.galigekere@manipal.edu</td>\n",
       "      <td>medical imaging and image processing, signal p...</td>\n",
       "      <td>NaN</td>\n",
       "      <td>NaN</td>\n",
       "      <td>NaN</td>\n",
       "      <td>NaN</td>\n",
       "      <td>NaN</td>\n",
       "    </tr>\n",
       "    <tr>\n",
       "      <th>7</th>\n",
       "      <td>Dr.Pramod K</td>\n",
       "      <td>Manipal Institute of Technology</td>\n",
       "      <td>Assistant Professor</td>\n",
       "      <td>Department of Biomedical Engineering</td>\n",
       "      <td>PhD (IIT- Bombay)\\n                           ...</td>\n",
       "      <td>pramod.kn@manipal.edu</td>\n",
       "      <td>nanotechnology,optical nanomaterials,lanthanid...</td>\n",
       "      <td>dr-pramod-kumar-132a2b28</td>\n",
       "      <td>NaN</td>\n",
       "      <td>NaN</td>\n",
       "      <td>NaN</td>\n",
       "      <td>NaN</td>\n",
       "    </tr>\n",
       "    <tr>\n",
       "      <th>8</th>\n",
       "      <td>Dr. K.S. Sivanandan</td>\n",
       "      <td>Manipal Institute of Technology</td>\n",
       "      <td>Professor</td>\n",
       "      <td>Department of Biomedical Engineering</td>\n",
       "      <td>NaN</td>\n",
       "      <td>sivanandan.ks@manipal.edu</td>\n",
       "      <td>NaN</td>\n",
       "      <td>dr-hareesha-ks-6aa68184</td>\n",
       "      <td>NaN</td>\n",
       "      <td>NaN</td>\n",
       "      <td>NaN</td>\n",
       "      <td>NaN</td>\n",
       "    </tr>\n",
       "    <tr>\n",
       "      <th>9</th>\n",
       "      <td>Dr. V.S. Venkatesan</td>\n",
       "      <td>Manipal Institute of Technology</td>\n",
       "      <td>Professor</td>\n",
       "      <td>Department of Biomedical Engineering</td>\n",
       "      <td>NaN</td>\n",
       "      <td>vs.vankat@manipal.edu</td>\n",
       "      <td>NaN</td>\n",
       "      <td>venkatesan-vs-ba019b113</td>\n",
       "      <td>NaN</td>\n",
       "      <td>NaN</td>\n",
       "      <td>NaN</td>\n",
       "      <td>NaN</td>\n",
       "    </tr>\n",
       "  </tbody>\n",
       "</table>\n",
       "</div>"
      ],
      "text/plain": [
       "                      Name                     Organization  \\\n",
       "0    Dr. Ankita Srivastava  Manipal Institute of Technology   \n",
       "1            Hilda Mayrose  Manipal Institute of Technology   \n",
       "2        Dr. Goutam Thakur  Manipal Institute of Technology   \n",
       "3              Rajitha K V  Manipal Institute of Technology   \n",
       "4       Lawrence D Almeida  Manipal Institute of Technology   \n",
       "5             Sheeba Davis  Manipal Institute of Technology   \n",
       "6  Dr. Ramesh R Galigekere  Manipal Institute of Technology   \n",
       "7              Dr.Pramod K  Manipal Institute of Technology   \n",
       "8      Dr. K.S. Sivanandan  Manipal Institute of Technology   \n",
       "9      Dr. V.S. Venkatesan  Manipal Institute of Technology   \n",
       "\n",
       "                          Designation  \\\n",
       "0                 Assistant Professor   \n",
       "1   Assistant Professor -Senior Scale   \n",
       "2                 Associate Professor   \n",
       "3   Assistant Professor -Senior scale   \n",
       "4                 Associate Professor   \n",
       "5  Assistant Professor (Senior Scale)   \n",
       "6                           Professor   \n",
       "7                 Assistant Professor   \n",
       "8                           Professor   \n",
       "9                           Professor   \n",
       "\n",
       "                                          Department  \\\n",
       "0  Department of Aeronautical & Automobile Engine...   \n",
       "1               Department of Biomedical Engineering   \n",
       "2               Department of Biomedical Engineering   \n",
       "3               Department of Biomedical Engineering   \n",
       "4               Department of Biomedical Engineering   \n",
       "5               Department of Biomedical Engineering   \n",
       "6               Department of Biomedical Engineering   \n",
       "7               Department of Biomedical Engineering   \n",
       "8               Department of Biomedical Engineering   \n",
       "9               Department of Biomedical Engineering   \n",
       "\n",
       "                                       Qualification  \\\n",
       "0  B.Tech. (Electronics & Communications Engineer...   \n",
       "1  B.E.(Biomedical Engg.), M.Tech.(Biomedical Eng...   \n",
       "2  B. Pharm.( Pharmaceutical Sciences), ME (Biome...   \n",
       "3  B.E.(Biomedical Engg.), M.Tech. (Biomedical En...   \n",
       "4  B.E. (E&C), M.Tech. (Biomedical Engg.)\\n      ...   \n",
       "5  B.E. (E&C), M.Tech. (Biomedical Engg.)\\n      ...   \n",
       "6  B.E.(E&C), M.Sc.(Engg.), Ph.D. (Signal/Image P...   \n",
       "7  PhD (IIT- Bombay)\\n                           ...   \n",
       "8                                                NaN   \n",
       "9                                                NaN   \n",
       "\n",
       "                           Email  \\\n",
       "0  ankita.srivastava@manipal.edu   \n",
       "1      hilda.mayrose@manipal.edu   \n",
       "2      goutam.thakur@manipal.edu   \n",
       "3         rajitha.kv@manipal.edu   \n",
       "4         ld.almeida@manipal.edu   \n",
       "5       sheeba.davis@manipal.edu   \n",
       "6  ramesh.galigekere@manipal.edu   \n",
       "7          pramod.kn@manipal.edu   \n",
       "8      sivanandan.ks@manipal.edu   \n",
       "9          vs.vankat@manipal.edu   \n",
       "\n",
       "                                   Areas of interest  \\\n",
       "0  communication networking, vehicular ad hoc net...   \n",
       "1       biomedical instrumentation & signal analysis   \n",
       "2  biomaterials, tissue engineering, drug deliver...   \n",
       "3                         medical instrumentation,,,   \n",
       "4  control systems, digital electronics and ic sy...   \n",
       "5                                       biomechanics   \n",
       "6  medical imaging and image processing, signal p...   \n",
       "7  nanotechnology,optical nanomaterials,lanthanid...   \n",
       "8                                                NaN   \n",
       "9                                                NaN   \n",
       "\n",
       "                         LinkedIn Facebook Twitter Website  phone  \n",
       "0  dr-ankita-srivastava-42486a1b4      NaN     NaN     NaN    NaN  \n",
       "1                             NaN      NaN     NaN     NaN    NaN  \n",
       "2          goutam-thakur-63149915      NaN     NaN     NaN    NaN  \n",
       "3                             NaN      NaN     NaN     NaN    NaN  \n",
       "4    lawrence-d-almeida-71a0b8174      NaN     NaN     NaN    NaN  \n",
       "5           sheeba-davis-b778286b      NaN     NaN     NaN    NaN  \n",
       "6                             NaN      NaN     NaN     NaN    NaN  \n",
       "7        dr-pramod-kumar-132a2b28      NaN     NaN     NaN    NaN  \n",
       "8         dr-hareesha-ks-6aa68184      NaN     NaN     NaN    NaN  \n",
       "9         venkatesan-vs-ba019b113      NaN     NaN     NaN    NaN  "
      ]
     },
     "metadata": {},
     "execution_count": 39
    }
   ],
   "metadata": {}
  },
  {
   "cell_type": "code",
   "execution_count": 102,
   "source": [
    "interests = {}\r\n",
    "for i in df['Areas of interest']:\r\n",
    "    if i is not None:\r\n",
    "        x = str(i).split(',')\r\n",
    "        for j in x:\r\n",
    "            j = j.replace('and', '')\r\n",
    "            j = j.strip()\r\n",
    "            j = ''.join(char for char in j if char.isalnum())\r\n",
    "            try:\r\n",
    "                interests[j] += 1\r\n",
    "            except:\r\n",
    "                interests[j] = 1\r\n"
   ],
   "outputs": [],
   "metadata": {}
  },
  {
   "cell_type": "code",
   "execution_count": 103,
   "source": [
    "# interests = sorted(interests)\r\n",
    "interest = dict(sorted(interests.items(), key = lambda item: item[1]))\r\n"
   ],
   "outputs": [],
   "metadata": {}
  },
  {
   "cell_type": "code",
   "execution_count": null,
   "source": [
    "for i in interest.keys():\r\n",
    "    print(i, \" \", interest[i])"
   ],
   "outputs": [],
   "metadata": {}
  },
  {
   "cell_type": "code",
   "execution_count": 87,
   "source": [
    "print(df.LinkedIn.isna().sum(), \"are NA out of \", len(df.LinkedIn))\r\n",
    "print(df.LinkedIn.isna().sum()/len(df.LinkedIn))"
   ],
   "outputs": [
    {
     "output_type": "stream",
     "name": "stdout",
     "text": [
      "145 are NA out of  649\n",
      "0.22342064714946072\n"
     ]
    }
   ],
   "metadata": {}
  },
  {
   "cell_type": "code",
   "execution_count": 88,
   "source": [
    "print(df.Twitter.isna().sum(), \"are NA out of \", len(df.Twitter))\r\n",
    "print(df.Twitter.isna().sum() / len(df.Twitter))\r\n"
   ],
   "outputs": [
    {
     "output_type": "stream",
     "name": "stdout",
     "text": [
      "647 are NA out of  649\n",
      "0.9969183359013868\n"
     ]
    }
   ],
   "metadata": {}
  },
  {
   "cell_type": "code",
   "execution_count": 89,
   "source": [
    "print(df.Facebook.isna().sum(), \"are NA out of \", len(df.Facebook))\r\n",
    "print(df.Facebook.isna().sum() / len(df.Facebook))\r\n"
   ],
   "outputs": [
    {
     "output_type": "stream",
     "name": "stdout",
     "text": [
      "638 are NA out of  649\n",
      "0.9830508474576272\n"
     ]
    }
   ],
   "metadata": {}
  },
  {
   "cell_type": "code",
   "execution_count": 90,
   "source": [
    "print(df.Website.isna().sum(), \"are NA out of \", len(df.Website))\r\n",
    "print(df.Website.isna().sum() / len(df.Website))\r\n"
   ],
   "outputs": [
    {
     "output_type": "stream",
     "name": "stdout",
     "text": [
      "611 are NA out of  649\n",
      "0.9414483821263482\n"
     ]
    }
   ],
   "metadata": {}
  },
  {
   "cell_type": "code",
   "execution_count": 113,
   "source": [
    "myset = dict()\r\n",
    "for i in range(0, len(df['Designation'])):\r\n",
    "    x = df['Designation'][i]\r\n",
    "    df['Designation'][i] = ''.join(char for char in x if char.isalnum())\r\n",
    "    try:\r\n",
    "        myset[df['Designation'][i]] += 1\r\n",
    "    except:\r\n",
    "        myset[df['Designation'][i]] = 1\r\n",
    "    # print(x)"
   ],
   "outputs": [
    {
     "output_type": "stream",
     "name": "stderr",
     "text": [
      "D:\\anaconda\\lib\\site-packages\\ipykernel_launcher.py:4: SettingWithCopyWarning: \n",
      "A value is trying to be set on a copy of a slice from a DataFrame\n",
      "\n",
      "See the caveats in the documentation: https://pandas.pydata.org/pandas-docs/stable/user_guide/indexing.html#returning-a-view-versus-a-copy\n",
      "  after removing the cwd from sys.path.\n"
     ]
    }
   ],
   "metadata": {}
  },
  {
   "cell_type": "code",
   "execution_count": 129,
   "source": [
    "print(\"Total designations: \", len(myset))\r\n",
    "print(\"Designations with more than 5 people: \")\r\n",
    "print(\" \")\r\n",
    "for i in myset:\r\n",
    "    if myset[i] < 5:\r\n",
    "        continue\r\n",
    "    print(i, \" \", myset[i])"
   ],
   "outputs": [
    {
     "output_type": "stream",
     "name": "stdout",
     "text": [
      "Number of designations:  41\n",
      "Designations with more than 5 people: \n",
      " \n",
      "AssistantProfessor   149\n",
      "AssistantProfessorSeniorScale   174\n",
      "AssociateProfessor   57\n",
      "AssistantProfessorSeniorscale   8\n",
      "Professor   75\n",
      "AssociateProfessorSeniorScale   49\n",
      "AssistantProfessorSelectionGrade   76\n",
      "AssistantProfessoronStudyLeave   5\n",
      "AssistantProfessorseniorscale   6\n"
     ]
    }
   ],
   "metadata": {}
  },
  {
   "cell_type": "code",
   "execution_count": 125,
   "source": [
    "plt.subplots(figsize = (25,6))\r\n",
    "sns.countplot(df['Designation'])\r\n",
    "x = xticks(rotation =90)"
   ],
   "outputs": [
    {
     "output_type": "display_data",
     "data": {
      "image/png": "[encoded data removed]",
      "text/plain": [
       "<Figure size 1800x432 with 1 Axes>"
      ]
     },
     "metadata": {
      "needs_background": "light"
     }
    }
   ],
   "metadata": {}
  },
  {
   "cell_type": "code",
   "execution_count": 133,
   "source": [
    "plt.subplots(figsize=(15, 6))\r\n",
    "sns.countplot(df['Department'])\r\n",
    "x = xticks(rotation=90)\r\n",
    "print(\"total departments: \", len(x[1]))"
   ],
   "outputs": [
    {
     "output_type": "stream",
     "name": "stdout",
     "text": [
      "total departments:  18\n"
     ]
    },
    {
     "output_type": "display_data",
     "data": {
      "image/png": "[encoded data removed]",
      "text/plain": [
       "<Figure size 1080x432 with 1 Axes>"
      ]
     },
     "metadata": {
      "needs_background": "light"
     }
    }
   ],
   "metadata": {}
  },
  {
   "cell_type": "code",
   "execution_count": null,
   "source": [],
   "outputs": [],
   "metadata": {}
  }
 ],
 "metadata": {
  "orig_nbformat": 4,
  "language_info": {
   "name": "python",
   "version": "3.7.3",
   "mimetype": "text/x-python",
   "codemirror_mode": {
    "name": "ipython",
    "version": 3
   },
   "pygments_lexer": "ipython3",
   "nbconvert_exporter": "python",
   "file_extension": ".py"
  },
  "kernelspec": {
   "name": "python3",
   "display_name": "Python 3.7.3 64-bit ('base': conda)"
  },
  "interpreter": {
   "hash": "cc5f70855ac006f3de45a3cc3b9e7d8d53845e50458809cb162b0174266dec97"
  }
 },
 "nbformat": 4,
 "nbformat_minor": 2
}